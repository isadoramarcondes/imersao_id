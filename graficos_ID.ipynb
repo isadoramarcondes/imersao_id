{
 "cells": [
  {
   "cell_type": "markdown",
   "id": "9168a4d5-6e80-4e3a-8880-ad72fd7adc45",
   "metadata": {},
   "source": [
    "### Regressão não-linear:\n",
    "A <u>regressão não-linear</u> pelo método dos mínimos quadrados é um processo iterativo que envolve, entre outras coisas, aproximar o modelo não-linear para um modelo linear para o cálculo do gradiente (necessário para encontrar um conjunto de bons parâmetros). Por conta das aproximações e do processo iterativo, a solução deste problema também *depende do palpite inicial para os parâmetros do modelo*. Em outras palavras, se você tem um modelo não-linear com 3 parâmetros {$a$, $b$ e $c$}, então os valores de convergência para esses parâmetros vão depender do valor inicial dos mesmos que você escolheu antes de iniciar o processo iterativo.\n",
    "\n",
    "Para calcular a regressão linear dos nossos dados obtidos no dls, vamos utilizar o modelo:\n",
    "XXXXXXX"
   ]
  },
  {
   "cell_type": "code",
   "execution_count": 81,
   "id": "73ef0fd8-b64f-4741-9240-1f0c617b04a2",
   "metadata": {},
   "outputs": [],
   "source": [
    "import numpy as np\n",
    "import matplotlib.pyplot as plt\n",
    "from scipy.stats import linregress\n",
    "from lmfit import Model\n",
    "import pandas as pd"
   ]
  },
  {
   "cell_type": "code",
   "execution_count": 82,
   "id": "6ff00279-03c5-43f0-a1cb-15cae911b981",
   "metadata": {},
   "outputs": [],
   "source": [
    "cor07 = pd.read_csv('dados\\ID07 - correlograma.txt')\n",
    "cor05 = pd.read_csv('dados\\ID05 - Correlograma.txt')"
   ]
  },
  {
   "cell_type": "markdown",
   "id": "d4688a8c-c11e-4edd-9c82-4a414166adad",
   "metadata": {},
   "source": [
    "### Amostra 0.7"
   ]
  },
  {
   "cell_type": "code",
   "execution_count": 83,
   "id": "4bfb525e-2cb5-42b4-a09d-2a5878ef484f",
   "metadata": {
    "tags": []
   },
   "outputs": [],
   "source": [
    "# dados amostra 07\n",
    "df2 = pd.read_csv('dados\\ID07 - correlograma.txt', sep=\"\\t\")"
   ]
  },
  {
   "cell_type": "code",
   "execution_count": 84,
   "id": "3e93b0d4-396d-4143-995f-7d2fda4911b7",
   "metadata": {},
   "outputs": [],
   "source": [
    "# amostra 07\n",
    "x1 = list(df2[\"Time (µs) - ID07 [Steady state]\"]*1E-6) #[0:250]\n",
    "y1 = list(df2[\"Correlation Coefficient (g₂-1) - ID07 [Steady state]\"])\n",
    "temp07 = x1 [0:250]\n",
    "co07 = y1 [0:250]"
   ]
  },
  {
   "cell_type": "code",
   "execution_count": 85,
   "id": "6e49839b-51b8-4b28-b445-e9697fb11625",
   "metadata": {},
   "outputs": [
    {
     "data": {
      "text/plain": [
       "Text(0, 0.5, 'coeficiente de correlação')"
      ]
     },
     "execution_count": 85,
     "metadata": {},
     "output_type": "execute_result"
    },
    {
     "data": {
      "image/png": "[encoded data removed]",
      "text/plain": [
       "<Figure size 432x288 with 1 Axes>"
      ]
     },
     "metadata": {
      "needs_background": "light"
     },
     "output_type": "display_data"
    }
   ],
   "source": [
    "# gráfico amostra 07\n",
    "plt.plot(temp07, co07, label = \"gráfico de correlação 07\", color = \"pink\")\n",
    "plt.xlabel('tempo (µs)')\n",
    "plt.ylabel('coeficiente de correlação')"
   ]
  },
  {
   "cell_type": "code",
   "execution_count": 86,
   "id": "f007b796-75a7-44b7-b5dd-80c11d5b35c9",
   "metadata": {
    "tags": []
   },
   "outputs": [
    {
     "name": "stdout",
     "output_type": "stream",
     "text": [
      "-4871.233552757208\n"
     ]
    }
   ],
   "source": [
    "def Dt(d, eta):\n",
    "    x = 1.38e-23 * 300/(3*np.pi*eta*d)\n",
    "    return x\n",
    "\n",
    "eta = 8.9e-4 #PaS\n",
    "n = 1.33 \n",
    "lamb = 5.32e-7 #m\n",
    "q = ((4*(np.pi)*n)/lamb)*(np.sin(np.pi/4)) \n",
    "dte = Dt(100e-9, eta) #dt estimado\n",
    "Aest = -2*(q**2)*dte\n",
    "print(Aest)\n",
    "\n",
    "def rxx(t, b, A):\n",
    "    corr = b*np.exp(-A*t)\n",
    "    return corr"
   ]
  },
  {
   "cell_type": "code",
   "execution_count": 87,
   "id": "dc7331ef-18e8-431c-885c-2b909b29cdc4",
   "metadata": {},
   "outputs": [
    {
     "name": "stdout",
     "output_type": "stream",
     "text": [
      "Variável independente: ['t']\n",
      "Parâmetros do modelo: ['b', 'A']\n"
     ]
    }
   ],
   "source": [
    "from lmfit import Model\n",
    "\n",
    "modelo_rxx = Model(rxx)\n",
    "\n",
    "print(f'Variável independente: {modelo_rxx.independent_vars}')\n",
    "print(f'Parâmetros do modelo: {modelo_rxx.param_names}')"
   ]
  },
  {
   "cell_type": "code",
   "execution_count": 88,
   "id": "6a479a6d-fca9-4609-ae39-c3621e0ae4a3",
   "metadata": {},
   "outputs": [],
   "source": [
    "params = modelo_rxx.make_params(b=1, A=-3.808190901874423e-16)"
   ]
  },
  {
   "cell_type": "code",
   "execution_count": 89,
   "id": "0f999db2-ea46-46c7-a0ac-cd0202f88567",
   "metadata": {},
   "outputs": [
    {
     "name": "stdout",
     "output_type": "stream",
     "text": [
      "[[Model]]\n",
      "    Model(rxx)\n",
      "[[Fit Statistics]]\n",
      "    # fitting method   = leastsq\n",
      "    # function evals   = 28\n",
      "    # data points      = 250\n",
      "    # variables        = 2\n",
      "    chi-square         = 0.00340864\n",
      "    reduced chi-square = 1.3745e-05\n",
      "    Akaike info crit   = -2796.72579\n",
      "    Bayesian info crit = -2789.68287\n",
      "[[Variables]]\n",
      "    b:  0.90340442 +/- 3.5232e-04 (0.04%) (init = 1)\n",
      "    A:  6219.34284 +/- 11.6757758 (0.19%) (init = -3.808191e-16)\n",
      "[[Correlations]] (unreported correlations are < 0.100)\n",
      "    C(b, A) =  0.415\n"
     ]
    }
   ],
   "source": [
    "resultado_fit = modelo_rxx.fit(co07, params, t=temp07)\n",
    "print(resultado_fit.fit_report())"
   ]
  },
  {
   "cell_type": "code",
   "execution_count": 90,
   "id": "8410f366-30e6-4df4-859f-2f481e0f75aa",
   "metadata": {},
   "outputs": [
    {
     "data": {
      "image/png": "[encoded data removed]",
      "text/plain": [
       "<Figure size 432x288 with 1 Axes>"
      ]
     },
     "metadata": {
      "needs_background": "light"
     },
     "output_type": "display_data"
    }
   ],
   "source": [
    "plt.plot(temp07, co07, 'o')\n",
    "plt.plot(temp07, resultado_fit.init_fit, '--', label='Palpite inicial')\n",
    "plt.plot(temp07, resultado_fit.best_fit, '-', label='Melhor ajuste encontrado',c = 'r')\n",
    "plt.semilogx()\n",
    "plt.legend()\n",
    "plt.show()"
   ]
  },
  {
   "cell_type": "code",
   "execution_count": 91,
   "id": "a3b9b7f0-d20f-4d24-93cb-6a3c43e96f6e",
   "metadata": {},
   "outputs": [
    {
     "name": "stdout",
     "output_type": "stream",
     "text": [
      "tamanho (m) : 7.832392711055639e-08\n"
     ]
    }
   ],
   "source": [
    "Ares = 6219.34284\n",
    "d = 2*q*q*(1.38e-23)*300/(3*np.pi*eta*Ares)\n",
    "print('tamanho (m) :',d)"
   ]
  },
  {
   "cell_type": "code",
   "execution_count": null,
   "id": "332654c2-8c77-4e0b-8b69-0fde47206f87",
   "metadata": {},
   "outputs": [],
   "source": []
  },
  {
   "cell_type": "markdown",
   "id": "b663a9a7-372f-4138-966f-5bb3f097eb93",
   "metadata": {},
   "source": [
    "## Amostra 0.5"
   ]
  },
  {
   "cell_type": "code",
   "execution_count": 92,
   "id": "0f9bbf51-f4f7-4496-a2b1-4a6ac407978f",
   "metadata": {},
   "outputs": [],
   "source": [
    "# para dados da amostra 05\n",
    "df = pd.read_csv('dados\\ID05 - Correlograma.txt', sep=\"\\t\")"
   ]
  },
  {
   "cell_type": "code",
   "execution_count": 93,
   "id": "4e240f18-a21f-4768-bb83-79e4658a2f3a",
   "metadata": {},
   "outputs": [],
   "source": [
    "# amostra 05\n",
    "x = list(df[\"Time (µs) - ID05 [Steady state]\"]*1E-6)\n",
    "y = list(df[\"Correlation Coefficient (g₂-1) - ID05 [Steady state]\"])\n",
    "temp05 = x[0:250]\n",
    "co05 = y[0:250]"
   ]
  },
  {
   "cell_type": "code",
   "execution_count": 94,
   "id": "57e3881b-2e78-4ea6-b4c1-1bdde15e4a2c",
   "metadata": {},
   "outputs": [
    {
     "data": {
      "text/plain": [
       "Text(0, 0.5, 'coeficiente de correlação')"
      ]
     },
     "execution_count": 94,
     "metadata": {},
     "output_type": "execute_result"
    },
    {
     "data": {
      "image/png": "[encoded data removed]",
      "text/plain": [
       "<Figure size 432x288 with 1 Axes>"
      ]
     },
     "metadata": {
      "needs_background": "light"
     },
     "output_type": "display_data"
    }
   ],
   "source": [
    "# gráfico amostra 05\n",
    "plt.plot(temp05, co05, \"o\", label = \"gráfico de correlação\", color = \"pink\")\n",
    "plt.xlabel('tempo (s)')\n",
    "plt.ylabel('coeficiente de correlação')"
   ]
  },
  {
   "cell_type": "code",
   "execution_count": 95,
   "id": "f9b931f2-888d-488c-b8bc-8acf5d1106b9",
   "metadata": {},
   "outputs": [
    {
     "name": "stdout",
     "output_type": "stream",
     "text": [
      "[[Model]]\n",
      "    Model(rxx)\n",
      "[[Fit Statistics]]\n",
      "    # fitting method   = leastsq\n",
      "    # function evals   = 31\n",
      "    # data points      = 250\n",
      "    # variables        = 2\n",
      "    chi-square         = 0.03488339\n",
      "    reduced chi-square = 1.4066e-04\n",
      "    Akaike info crit   = -2215.30136\n",
      "    Bayesian info crit = -2208.25844\n",
      "[[Variables]]\n",
      "    b:  0.88527732 +/- 0.00109856 (0.12%) (init = 1)\n",
      "    A:  4825.78523 +/- 29.4502827 (0.61%) (init = -3.808191e-16)\n",
      "[[Correlations]] (unreported correlations are < 0.100)\n",
      "    C(b, A) =  0.406\n"
     ]
    }
   ],
   "source": [
    "resultado_fit = modelo_rxx.fit(co05, params, t=temp05)\n",
    "print(resultado_fit.fit_report())"
   ]
  },
  {
   "cell_type": "code",
   "execution_count": 98,
   "id": "36529dc3-50f0-42e6-95dc-50cc19e151db",
   "metadata": {},
   "outputs": [
    {
     "data": {
      "image/png": "[encoded data removed]",
      "text/plain": [
       "<Figure size 432x288 with 1 Axes>"
      ]
     },
     "metadata": {
      "needs_background": "light"
     },
     "output_type": "display_data"
    }
   ],
   "source": [
    "plt.plot(temp05, co05, 'o')\n",
    "plt.plot(temp05, resultado_fit.init_fit, '--', label='Palpite inicial')\n",
    "plt.plot(temp05, resultado_fit.best_fit, '-', label='Melhor ajuste encontrado',c = 'r')\n",
    "plt.semilogx()\n",
    "plt.legend()\n",
    "plt.show()"
   ]
  },
  {
   "cell_type": "code",
   "execution_count": 99,
   "id": "167407ba-aed3-4dfa-8dda-069369a42d53",
   "metadata": {},
   "outputs": [
    {
     "name": "stdout",
     "output_type": "stream",
     "text": [
      "tamanho (m) : 1.0094178088313323e-07\n"
     ]
    }
   ],
   "source": [
    "Ares = 4825.78523\n",
    "d = 2*q*q*(1.38e-23)*300/(3*np.pi*eta*Ares)\n",
    "print('tamanho (m) :',d)"
   ]
  },
  {
   "cell_type": "code",
   "execution_count": null,
   "id": "ce94120b-c0ad-4151-9ec5-bafb220a0db4",
   "metadata": {},
   "outputs": [],
   "source": []
  }
 ],
 "metadata": {
  "kernelspec": {
   "display_name": "ilumpy",
   "language": "python",
   "name": "ilumpy"
  },
  "language_info": {
   "codemirror_mode": {
    "name": "ipython",
    "version": 3
   },
   "file_extension": ".py",
   "mimetype": "text/x-python",
   "name": "python",
   "nbconvert_exporter": "python",
   "pygments_lexer": "ipython3",
   "version": "3.9.7"
  }
 },
 "nbformat": 4,
 "nbformat_minor": 5
}
