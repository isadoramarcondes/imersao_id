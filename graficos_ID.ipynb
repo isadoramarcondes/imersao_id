{
 "cells": [
  {
   "cell_type": "markdown",
   "id": "9168a4d5-6e80-4e3a-8880-ad72fd7adc45",
   "metadata": {},
   "source": [
    "### Regressão não-linear:\n",
    "A <u>regressão não-linear</u> pelo método dos mínimos quadrados é um processo iterativo que envolve, entre outras coisas, aproximar o modelo não-linear para um modelo linear para o cálculo do gradiente (necessário para encontrar um conjunto de bons parâmetros). Por conta das aproximações e do processo iterativo, a solução deste problema também *depende do palpite inicial para os parâmetros do modelo*. Em outras palavras, se você tem um modelo não-linear com 3 parâmetros {$a$, $b$ e $c$}, então os valores de convergência para esses parâmetros vão depender do valor inicial dos mesmos que você escolheu antes de iniciar o processo iterativo.\n",
    "\n",
    "Para calcular a regressão linear dos nossos dados obtidos no dls, vamos utilizar o modelo:\n",
    "XXXXXXX"
   ]
  },
  {
   "cell_type": "code",
   "execution_count": 2,
   "id": "73ef0fd8-b64f-4741-9240-1f0c617b04a2",
   "metadata": {},
   "outputs": [],
   "source": [
    "import numpy as np\n",
    "import matplotlib.pyplot as plt\n",
    "from scipy.stats import linregress\n",
    "from lmfit import Model\n",
    "import panda as pd"
   ]
  },
  {
   "cell_type": "code",
   "execution_count": 3,
   "id": "6ff00279-03c5-43f0-a1cb-15cae911b981",
   "metadata": {},
   "outputs": [],
   "source": [
    "cor07 = pd.read_csv('dados\\ID07 - correlograma.txt')\n",
    "cor05 = pd.read_csv('dados\\ID05 - Correlograma.txt')"
   ]
  },
  {
   "cell_type": "code",
   "execution_count": null,
   "id": "d54c5632-9f9d-4e61-9bb2-3e1508497b09",
   "metadata": {},
   "outputs": [],
   "source": [
    "k = 1.38*10**-23 #J/K - \n",
    "T = 300 #K - \n",
    "n = 1.33 #\n",
    "lambd = 5.32*10**-7 #m\n",
    "\n",
    "def Dt (d, k, T, n):\n",
    "    \"\"\n",
    "    (K*T)/3*np.pi*n*d\n",
    "    return\n",
    "\n",
    "q = ((4*(np.pi)*n)/lamda)*(np.sin(90/2)) #\n",
    "\n",
    "A = -2*(q**2)*Dt*t\n",
    "\n",
    "def rxx(t, b):\n",
    "    1 + b*e"
   ]
  },
  {
   "cell_type": "code",
   "execution_count": null,
   "id": "7b9c7788-f143-4ea0-9bbf-2d4a7c239d04",
   "metadata": {},
   "outputs": [],
   "source": []
  }
 ],
 "metadata": {
  "kernelspec": {
   "display_name": "ilumpy",
   "language": "python",
   "name": "ilumpy"
  },
  "language_info": {
   "codemirror_mode": {
    "name": "ipython",
    "version": 3
   },
   "file_extension": ".py",
   "mimetype": "text/x-python",
   "name": "python",
   "nbconvert_exporter": "python",
   "pygments_lexer": "ipython3",
   "version": "3.9.7"
  }
 },
 "nbformat": 4,
 "nbformat_minor": 5
}
