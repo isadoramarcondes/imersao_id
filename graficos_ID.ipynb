{
 "cells": [
  {
   "cell_type": "markdown",
   "id": "9168a4d5-6e80-4e3a-8880-ad72fd7adc45",
   "metadata": {},
   "source": [
    "### Regressão não-linear:\n",
    "A <u>regressão não-linear</u> pelo método dos mínimos quadrados é um processo iterativo que envolve, entre outras coisas, aproximar o modelo não-linear para um modelo linear para o cálculo do gradiente (necessário para encontrar um conjunto de bons parâmetros). Por conta das aproximações e do processo iterativo, a solução deste problema também *depende do palpite inicial para os parâmetros do modelo*. Em outras palavras, se você tem um modelo não-linear com 3 parâmetros {$a$, $b$ e $c$}, então os valores de convergência para esses parâmetros vão depender do valor inicial dos mesmos que você escolheu antes de iniciar o processo iterativo.\n",
    "\n",
    "Para calcular a regressão linear dos nossos dados obtidos no dls, vamos utilizar o modelo:\n",
    "XXXXXXX"
   ]
  },
  {
   "cell_type": "code",
   "execution_count": 1,
   "id": "73ef0fd8-b64f-4741-9240-1f0c617b04a2",
   "metadata": {},
   "outputs": [],
   "source": [
    "import numpy as np\n",
    "import matplotlib.pyplot as plt\n",
    "from scipy.stats import linregress\n",
    "from lmfit import Model\n",
    "import pandas as pd"
   ]
  },
  {
   "cell_type": "code",
   "execution_count": 2,
   "id": "6ff00279-03c5-43f0-a1cb-15cae911b981",
   "metadata": {},
   "outputs": [],
   "source": [
    "cor07 = pd.read_csv('dados\\ID07 - correlograma.txt')\n",
    "cor05 = pd.read_csv('dados\\ID05 - Correlograma.txt')"
   ]
  },
  {
   "cell_type": "code",
   "execution_count": 3,
   "id": "4bfb525e-2cb5-42b4-a09d-2a5878ef484f",
   "metadata": {
    "tags": []
   },
   "outputs": [],
   "source": [
    "# dados amostra 07\n",
    "df2 = pd.read_csv('dados\\ID07 - correlograma.txt', sep=\"\\t\")"
   ]
  },
  {
   "cell_type": "code",
   "execution_count": 4,
   "id": "3e93b0d4-396d-4143-995f-7d2fda4911b7",
   "metadata": {},
   "outputs": [],
   "source": [
    "# amostra 05\n",
    "x1 = list(df2[\"Time (µs) - ID07 [Steady state]\"])\n",
    "y1 = list(df2[\"Correlation Coefficient (g₂-1) - ID07 [Steady state]\"])\n",
    "temp07 = x1[0:250]\n",
    "co07 = y1[0:250]"
   ]
  },
  {
   "cell_type": "code",
   "execution_count": 5,
   "id": "6e49839b-51b8-4b28-b445-e9697fb11625",
   "metadata": {},
   "outputs": [
    {
     "data": {
      "text/plain": [
       "Text(0, 0.5, 'coeficiente de correlação')"
      ]
     },
     "execution_count": 5,
     "metadata": {},
     "output_type": "execute_result"
    },
    {
     "data": {
      "image/png": "[encoded data removed]",
      "text/plain": [
       "<Figure size 432x288 with 1 Axes>"
      ]
     },
     "metadata": {
      "needs_background": "light"
     },
     "output_type": "display_data"
    }
   ],
   "source": [
    "# gráfico amostra 05\n",
    "plt.plot(temp07, co07, label = \"gráfico de correlação 07\", color = \"pink\")\n",
    "plt.xlabel('tempo (µs)')\n",
    "plt.ylabel('coeficiente de correlação')"
   ]
  },
  {
   "cell_type": "code",
   "execution_count": 6,
   "id": "407e293a-e74c-4edd-9ef3-76f81413e6ef",
   "metadata": {},
   "outputs": [],
   "source": [
    "# para dados da amostra 05\n",
    "df = pd.read_csv('dados\\ID05 - Correlograma.txt', sep=\"\\t\")"
   ]
  },
  {
   "cell_type": "code",
   "execution_count": 7,
   "id": "648a9ff1-1343-4cb5-8c7a-b6c70d156c45",
   "metadata": {},
   "outputs": [],
   "source": [
    "# amostra 05\n",
    "x = list(df[\"Time (µs) - ID05 [Steady state]\"])\n",
    "y = list(df[\"Correlation Coefficient (g₂-1) - ID05 [Steady state]\"])\n",
    "tempo5 = x[0:250]\n",
    "co05 = y[0:250]"
   ]
  },
  {
   "cell_type": "code",
   "execution_count": 8,
   "id": "8466ea84-ea9d-430a-883a-2f441a73b723",
   "metadata": {},
   "outputs": [
    {
     "data": {
      "text/plain": [
       "Text(0, 0.5, 'coeficiente de correlação')"
      ]
     },
     "execution_count": 8,
     "metadata": {},
     "output_type": "execute_result"
    },
    {
     "data": {
      "image/png": "[encoded data removed]",
      "text/plain": [
       "<Figure size 432x288 with 1 Axes>"
      ]
     },
     "metadata": {
      "needs_background": "light"
     },
     "output_type": "display_data"
    }
   ],
   "source": [
    "# gráfico amostra 05\n",
    "plt.plot(tempo5, co05, \"o\", label = \"gráfico de correlação\", color = \"pink\")\n",
    "plt.xlabel('tempo (µs)')\n",
    "plt.ylabel('coeficiente de correlação')"
   ]
  },
  {
   "cell_type": "code",
   "execution_count": 11,
   "id": "f007b796-75a7-44b7-b5dd-80c11d5b35c9",
   "metadata": {},
   "outputs": [],
   "source": [
    "def Dt(d, eta):\n",
    "    x = 1.38e-23 * 300/3*np.pi*eta*d\n",
    "    return x\n",
    "\n",
    "eta = 8.9e-4 #PaS\n",
    "n = 1.33 \n",
    "lamb = 5.32e-7 #m\n",
    "q = ((4*(np.pi)*n)/lamb)*(np.sin(np.pi/4)) \n",
    "dte = Dt(100e-9, eta) #dt estimado\n",
    "A = -2*(q**2)*dte\n",
    "\n",
    "def rxx(t, b, A):\n",
    "    corr = b*np.exp(A*t)\n",
    "    return corr"
   ]
  },
  {
   "cell_type": "code",
   "execution_count": null,
   "id": "dc7331ef-18e8-431c-885c-2b909b29cdc4",
   "metadata": {},
   "outputs": [],
   "source": []
  }
 ],
 "metadata": {
  "kernelspec": {
   "display_name": "ilumpy",
   "language": "python",
   "name": "ilumpy"
  },
  "language_info": {
   "codemirror_mode": {
    "name": "ipython",
    "version": 3
   },
   "file_extension": ".py",
   "mimetype": "text/x-python",
   "name": "python",
   "nbconvert_exporter": "python",
   "pygments_lexer": "ipython3",
   "version": "3.9.7"
  }
 },
 "nbformat": 4,
 "nbformat_minor": 5
}
