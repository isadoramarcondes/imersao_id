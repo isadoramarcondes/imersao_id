{
 "cells": [
  {
   "cell_type": "code",
   "execution_count": 2,
   "id": "73ef0fd8-b64f-4741-9240-1f0c617b04a2",
   "metadata": {},
   "outputs": [],
   "source": [
    "import numpy as np\n",
    "import matplotlib.pyplot as plt\n",
    "from scipy.stats import linregress\n",
    "from lmfit import Model"
   ]
  },
  {
   "cell_type": "code",
   "execution_count": 3,
   "id": "6ff00279-03c5-43f0-a1cb-15cae911b981",
   "metadata": {},
   "outputs": [],
   "source": [
    "cor05 = ('ID05 - Correlograma.txt')\n",
    "cor07 = ('ID07 -correlograma.txt')"
   ]
  },
  {
   "cell_type": "code",
   "execution_count": 4,
   "id": "cbb70ed1-6f75-4cec-a726-2d54bd0e8970",
   "metadata": {},
   "outputs": [
    {
     "data": {
      "text/plain": [
       "'ID05 - Correlograma.txt'"
      ]
     },
     "execution_count": 4,
     "metadata": {},
     "output_type": "execute_result"
    }
   ],
   "source": [
    "cor05"
   ]
  },
  {
   "cell_type": "code",
   "execution_count": null,
   "id": "d54c5632-9f9d-4e61-9bb2-3e1508497b09",
   "metadata": {},
   "outputs": [],
   "source": []
  }
 ],
 "metadata": {
  "kernelspec": {
   "display_name": "ilumpy",
   "language": "python",
   "name": "ilumpy"
  },
  "language_info": {
   "codemirror_mode": {
    "name": "ipython",
    "version": 3
   },
   "file_extension": ".py",
   "mimetype": "text/x-python",
   "name": "python",
   "nbconvert_exporter": "python",
   "pygments_lexer": "ipython3",
   "version": "3.9.7"
  }
 },
 "nbformat": 4,
 "nbformat_minor": 5
}
